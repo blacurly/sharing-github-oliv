{
  "nbformat": 4,
  "nbformat_minor": 0,
  "metadata": {
    "colab": {
      "name": "Homework 1 -- DEDP",
      "provenance": [],
      "authorship_tag": "ABX9TyMdYT8Oe99w3VRykw/NW45c",
      "include_colab_link": true
    },
    "kernelspec": {
      "name": "ir",
      "display_name": "R"
    },
    "language_info": {
      "name": "R"
    }
  },
  "cells": [
    {
      "cell_type": "markdown",
      "metadata": {
        "id": "view-in-github",
        "colab_type": "text"
      },
      "source": [
        "<a href=\"https://colab.research.google.com/github/blacurly/sharing-github-oliv/blob/main/Homework_1_DEDP.ipynb\" target=\"_parent\"><img src=\"https://colab.research.google.com/assets/colab-badge.svg\" alt=\"Open In Colab\"/></a>"
      ]
    },
    {
      "cell_type": "markdown",
      "source": [
        "**THIS DOCUMENTS IS NOT A PROPER ANALYZE DOCUMENT, IT IS JUST FOR DOING THE HOMEWORK SO IT DOES NOT GIVE THE READER ABOUT THE FRAMEWORK NEITHER THE STEPS ABOUT HOW TO GET THE THINGS DONE LOGICALLY**\n",
        "\n",
        "YOU CAN CONTACT ME IF YOU WANT TO DISCUSS MORE THRU EMAIL FARANSINA.AO@SCI.UI.AC.ID"
      ],
      "metadata": {
        "id": "cHjOIhm1squ4"
      }
    },
    {
      "cell_type": "code",
      "execution_count": null,
      "metadata": {
        "colab": {
          "base_uri": "https://localhost:8080/",
          "height": 34
        },
        "id": "v5Ym34xLYn38",
        "outputId": "01c69f19-fc6e-4b5e-ba8d-848794380734"
      },
      "outputs": [
        {
          "output_type": "display_data",
          "data": {
            "text/html": [
              "'R version 4.2.0 (2022-04-22)'"
            ],
            "text/markdown": "'R version 4.2.0 (2022-04-22)'",
            "text/latex": "'R version 4.2.0 (2022-04-22)'",
            "text/plain": [
              "[1] \"R version 4.2.0 (2022-04-22)\""
            ]
          },
          "metadata": {}
        }
      ],
      "source": [
        "R.version.string"
      ]
    },
    {
      "cell_type": "code",
      "source": [
        "# read the data\n",
        "wb_dev_ind = read.csv(\"wb_dev_ind.csv\")\n",
        "# summarize data\n",
        "summary(wb_dev_ind)"
      ],
      "metadata": {
        "colab": {
          "base_uri": "https://localhost:8080/",
          "height": 295
        },
        "id": "BSNWYPgLdzgV",
        "outputId": "c9af63f4-e1b3-4481-844f-e675a6b74599"
      },
      "execution_count": null,
      "outputs": [
        {
          "output_type": "display_data",
          "data": {
            "text/plain": [
              " countrycode        countryname        gdp_per_capita     literacy_female \n",
              " Length:214         Length:214         Min.   :   155.2   Min.   :  8.94  \n",
              " Class :character   Class :character   1st Qu.:  1124.4   1st Qu.: 63.40  \n",
              " Mode  :character   Mode  :character   Median :  4109.6   Median : 91.37  \n",
              "                                       Mean   : 12967.2   Mean   : 78.54  \n",
              "                                       3rd Qu.: 15122.3   3rd Qu.: 97.33  \n",
              "                                       Max.   :158802.5   Max.   :100.00  \n",
              "                                       NA's   :15         NA's   :60      \n",
              " literacy_male     literacy_all    infant_mortality \n",
              " Min.   : 23.25   Min.   : 15.46   Min.   :  1.600  \n",
              " 1st Qu.: 78.33   1st Qu.: 71.34   1st Qu.:  7.075  \n",
              " Median : 93.43   Median : 92.16   Median : 15.250  \n",
              " Mean   : 85.92   Mean   : 82.15   Mean   : 25.611  \n",
              " 3rd Qu.: 98.43   3rd Qu.: 97.91   3rd Qu.: 39.650  \n",
              " Max.   :100.00   Max.   :100.00   Max.   :107.200  \n",
              " NA's   :60       NA's   :60       NA's   :22       "
            ]
          },
          "metadata": {}
        }
      ]
    },
    {
      "cell_type": "markdown",
      "source": [
        "**Question 1**\n",
        "What is the mean of GDP per capita? what is the standars deviation of GDP per capita? \n",
        "\n",
        "**How to answer?**\n",
        "GDP per capita refers to the sum of gross value added by all resident producers in the economy plus any taxes (ref: databank.wordlbank.org)\n"
      ],
      "metadata": {
        "id": "2Bnp_uabhCFg"
      }
    },
    {
      "cell_type": "markdown",
      "source": [
        "**Calculating the mean of GDP per capita**"
      ],
      "metadata": {
        "id": "aYc5cZKcmj9g"
      }
    },
    {
      "cell_type": "code",
      "source": [
        "mean_gdppercapita = mean(wb_dev_ind$gdp_per_capita,na.rm = TRUE)\n",
        "print(mean_gdppercapita)"
      ],
      "metadata": {
        "id": "iDzGNRfWgDEt",
        "colab": {
          "base_uri": "https://localhost:8080/"
        },
        "outputId": "85466dee-88f8-43dd-d95b-0e5e7b24c685"
      },
      "execution_count": null,
      "outputs": [
        {
          "output_type": "stream",
          "name": "stdout",
          "text": [
            "[1] 12967.16\n"
          ]
        }
      ]
    },
    {
      "cell_type": "code",
      "source": [
        "mean_gdppercapita"
      ],
      "metadata": {
        "colab": {
          "base_uri": "https://localhost:8080/",
          "height": 34
        },
        "id": "Ri7nXM5ojeap",
        "outputId": "b1a3b6ac-59d6-47f8-f180-b59a1bf7efc6"
      },
      "execution_count": null,
      "outputs": [
        {
          "output_type": "display_data",
          "data": {
            "text/html": [
              "12967.1622759799"
            ],
            "text/markdown": "12967.1622759799",
            "text/latex": "12967.1622759799",
            "text/plain": [
              "[1] 12967.16"
            ]
          },
          "metadata": {}
        }
      ]
    },
    {
      "cell_type": "markdown",
      "source": [
        "**Calculating the standard deviation of GDP per capita**"
      ],
      "metadata": {
        "id": "YnmDRRTem35t"
      }
    },
    {
      "cell_type": "code",
      "source": [
        "sd_gdppercapita = sd(wb_dev_ind$gdp_per_capita, na.rm=TRUE)\n"
      ],
      "metadata": {
        "id": "viwyTfpqki1W"
      },
      "execution_count": null,
      "outputs": []
    },
    {
      "cell_type": "code",
      "source": [
        "sd_gdppercapita"
      ],
      "metadata": {
        "colab": {
          "base_uri": "https://localhost:8080/",
          "height": 34
        },
        "id": "iC_IEhgOmFdo",
        "outputId": "ecbcf6f8-6088-4579-819b-886f8cf5425c"
      },
      "execution_count": null,
      "outputs": [
        {
          "output_type": "display_data",
          "data": {
            "text/html": [
              "20760.6185268303"
            ],
            "text/markdown": "20760.6185268303",
            "text/latex": "20760.6185268303",
            "text/plain": [
              "[1] 20760.62"
            ]
          },
          "metadata": {}
        }
      ]
    },
    {
      "cell_type": "markdown",
      "source": [
        "**Calculating the mean and standard deviation of iliteracy rate**\n",
        "\n",
        "notes: we have literacy rate data that can be seen thru literacy_all and illiteracy rate = 100 - literacy rate (rate is persentil)"
      ],
      "metadata": {
        "id": "jfsw-QfCnHc7"
      }
    },
    {
      "cell_type": "code",
      "source": [
        "illiteracy = numeric(nrow(wb_dev_ind))\n",
        "wb_dev_ind$illiteracy = illiteracy\n",
        "wb_dev_ind$illiteracy = 100 - wb_dev_ind$literacy_all\n",
        "mean_Illiteracy = mean(wb_dev_ind$illiteracy, na.rm = TRUE)\n",
        "sd_Illiteracy = sd(wb_dev_ind$illiteracy, na.rm = TRUE)"
      ],
      "metadata": {
        "id": "eUR1s18bnLSW"
      },
      "execution_count": null,
      "outputs": []
    },
    {
      "cell_type": "code",
      "source": [
        "model3 = lm(illiteracy_all ~ gdp_per_capita, data = wb_dev_ind)\n",
        "summary(model3)"
      ],
      "metadata": {
        "colab": {
          "base_uri": "https://localhost:8080/",
          "height": 312
        },
        "id": "Rcpf340mq7RZ",
        "outputId": "5b4b16c3-e02d-4829-bf08-78dafb2fa377"
      },
      "execution_count": null,
      "outputs": [
        {
          "output_type": "display_data",
          "data": {
            "text/plain": [
              "\n",
              "Call:\n",
              "lm(formula = illiteracy_all ~ gdp_per_capita, data = wb_dev_ind)\n",
              "\n",
              "Residuals:\n",
              "   Min     1Q Median     3Q    Max \n",
              "     0      0      0      0      0 \n",
              "\n",
              "Coefficients:\n",
              "               Estimate Std. Error t value Pr(>|t|)\n",
              "(Intercept)           0          0     NaN      NaN\n",
              "gdp_per_capita        0          0     NaN      NaN\n",
              "\n",
              "Residual standard error: 0 on 197 degrees of freedom\n",
              "  (15 observations deleted due to missingness)\n",
              "Multiple R-squared:    NaN,\tAdjusted R-squared:    NaN \n",
              "F-statistic:   NaN on 1 and 197 DF,  p-value: NA\n"
            ]
          },
          "metadata": {}
        }
      ]
    },
    {
      "cell_type": "code",
      "source": [
        "model2 = lm(wb_dev_ind$illiteracy ~ gdp_per_capita, data = wb_dev_ind)"
      ],
      "metadata": {
        "id": "0z1IUBGzqMNu"
      },
      "execution_count": null,
      "outputs": []
    },
    {
      "cell_type": "code",
      "source": [
        "summary(model2)"
      ],
      "metadata": {
        "colab": {
          "base_uri": "https://localhost:8080/",
          "height": 347
        },
        "id": "SGmrpjRjqjmf",
        "outputId": "f6b13330-6102-47c5-ca32-e0c0f3305e27"
      },
      "execution_count": null,
      "outputs": [
        {
          "output_type": "display_data",
          "data": {
            "text/plain": [
              "\n",
              "Call:\n",
              "lm(formula = wb_dev_ind$illiteracy ~ gdp_per_capita, data = wb_dev_ind)\n",
              "\n",
              "Residuals:\n",
              "    Min      1Q  Median      3Q     Max \n",
              "-23.140 -14.684  -4.794   8.864  60.970 \n",
              "\n",
              "Coefficients:\n",
              "                 Estimate Std. Error t value Pr(>|t|)    \n",
              "(Intercept)    23.8344669  1.8448598  12.919  < 2e-16 ***\n",
              "gdp_per_capita -0.0008979  0.0001663  -5.399 2.61e-07 ***\n",
              "---\n",
              "Signif. codes:  0 ‘***’ 0.001 ‘**’ 0.01 ‘*’ 0.05 ‘.’ 0.1 ‘ ’ 1\n",
              "\n",
              "Residual standard error: 18.7 on 148 degrees of freedom\n",
              "  (64 observations deleted due to missingness)\n",
              "Multiple R-squared:  0.1645,\tAdjusted R-squared:  0.1589 \n",
              "F-statistic: 29.15 on 1 and 148 DF,  p-value: 2.611e-07\n"
            ]
          },
          "metadata": {}
        }
      ]
    },
    {
      "cell_type": "code",
      "source": [
        "model4 = lm(infant_mortality ~ wb_dev_ind$illiteracy, data = wb_dev_ind)"
      ],
      "metadata": {
        "id": "MqqzqcCPriAB"
      },
      "execution_count": null,
      "outputs": []
    },
    {
      "cell_type": "code",
      "source": [
        "summary(model4)"
      ],
      "metadata": {
        "colab": {
          "base_uri": "https://localhost:8080/",
          "height": 347
        },
        "id": "0KOmRTq6rwp3",
        "outputId": "e8bbd80b-d9eb-4ff5-a383-c81afee454e8"
      },
      "execution_count": null,
      "outputs": [
        {
          "output_type": "display_data",
          "data": {
            "text/plain": [
              "\n",
              "Call:\n",
              "lm(formula = infant_mortality ~ wb_dev_ind$illiteracy, data = wb_dev_ind)\n",
              "\n",
              "Residuals:\n",
              "    Min      1Q  Median      3Q     Max \n",
              "-30.128  -8.968  -3.652   4.817  62.473 \n",
              "\n",
              "Coefficients:\n",
              "                      Estimate Std. Error t value Pr(>|t|)    \n",
              "(Intercept)           11.96077    1.64708   7.262 2.06e-11 ***\n",
              "wb_dev_ind$illiteracy  0.92340    0.06012  15.360  < 2e-16 ***\n",
              "---\n",
              "Signif. codes:  0 ‘***’ 0.001 ‘**’ 0.01 ‘*’ 0.05 ‘.’ 0.1 ‘ ’ 1\n",
              "\n",
              "Residual standard error: 14.95 on 147 degrees of freedom\n",
              "  (65 observations deleted due to missingness)\n",
              "Multiple R-squared:  0.6161,\tAdjusted R-squared:  0.6135 \n",
              "F-statistic: 235.9 on 1 and 147 DF,  p-value: < 2.2e-16\n"
            ]
          },
          "metadata": {}
        }
      ]
    },
    {
      "cell_type": "code",
      "source": [
        "mean_Illiteracy"
      ],
      "metadata": {
        "colab": {
          "base_uri": "https://localhost:8080/",
          "height": 34
        },
        "id": "YrVAFFnqplE9",
        "outputId": "00b6e935-0a39-4fdf-a797-a501b12e1dd1"
      },
      "execution_count": null,
      "outputs": [
        {
          "output_type": "display_data",
          "data": {
            "text/html": [
              "17.8487732987013"
            ],
            "text/markdown": "17.8487732987013",
            "text/latex": "17.8487732987013",
            "text/plain": [
              "[1] 17.84877"
            ]
          },
          "metadata": {}
        }
      ]
    },
    {
      "cell_type": "code",
      "source": [
        "sd_Illiteracy"
      ],
      "metadata": {
        "colab": {
          "base_uri": "https://localhost:8080/",
          "height": 34
        },
        "id": "7QqmtA4zq5a7",
        "outputId": "954a64b6-efd1-46f3-d631-5bfd25f323ed"
      },
      "execution_count": null,
      "outputs": [
        {
          "output_type": "display_data",
          "data": {
            "text/html": [
              "20.2750073548434"
            ],
            "text/markdown": "20.2750073548434",
            "text/latex": "20.2750073548434",
            "text/plain": [
              "[1] 20.27501"
            ]
          },
          "metadata": {}
        }
      ]
    },
    {
      "cell_type": "markdown",
      "source": [
        "**Calculating the infant mortality rate**\n"
      ],
      "metadata": {
        "id": "fBHZyviqsKx3"
      }
    },
    {
      "cell_type": "code",
      "source": [
        "mean(wb_dev_ind$infant_mortality, na.rm=TRUE)"
      ],
      "metadata": {
        "colab": {
          "base_uri": "https://localhost:8080/",
          "height": 34
        },
        "id": "4axRerCBsjpV",
        "outputId": "cd4b1877-47f7-4a97-e235-901852194e67"
      },
      "execution_count": null,
      "outputs": [
        {
          "output_type": "display_data",
          "data": {
            "text/html": [
              "25.6114583333333"
            ],
            "text/markdown": "25.6114583333333",
            "text/latex": "25.6114583333333",
            "text/plain": [
              "[1] 25.61146"
            ]
          },
          "metadata": {}
        }
      ]
    },
    {
      "cell_type": "code",
      "source": [
        "sd(wb_dev_ind$infant_mortality, na.rm=TRUE)"
      ],
      "metadata": {
        "colab": {
          "base_uri": "https://localhost:8080/",
          "height": 34
        },
        "id": "Lgho-MeQspGd",
        "outputId": "023d7449-b9ce-4611-bbdf-2e4359bc0319"
      },
      "execution_count": null,
      "outputs": [
        {
          "output_type": "display_data",
          "data": {
            "text/html": [
              "23.8877473895937"
            ],
            "text/markdown": "23.8877473895937",
            "text/latex": "23.8877473895937",
            "text/plain": [
              "[1] 23.88775"
            ]
          },
          "metadata": {}
        }
      ]
    },
    {
      "cell_type": "markdown",
      "source": [
        "**Calculating the mean and sd of iliteracy man anda woman**"
      ],
      "metadata": {
        "id": "q6Msg6zqRPes"
      }
    },
    {
      "cell_type": "code",
      "source": [
        "illiteracy_male = numeric(nrow(wb_dev_ind))\n",
        "wb_dev_ind$illiteracy_male = illiteracy_male\n",
        "wb_dev_ind$illiteracy_male = 100 - wb_dev_ind$literacy_male\n",
        "mean_illiteracy_male = mean(wb_dev_ind$illiteracy_male, na.rm = TRUE)\n"
      ],
      "metadata": {
        "id": "MjslXFotswiL"
      },
      "execution_count": null,
      "outputs": []
    },
    {
      "cell_type": "code",
      "source": [
        "mean_illiteracy_male"
      ],
      "metadata": {
        "colab": {
          "base_uri": "https://localhost:8080/",
          "height": 34
        },
        "id": "3lQZeVNZSFZB",
        "outputId": "2814bcec-4c3e-48b6-e22c-d0d106b8a11d"
      },
      "execution_count": null,
      "outputs": [
        {
          "output_type": "display_data",
          "data": {
            "text/html": [
              "14.0815447987013"
            ],
            "text/markdown": "14.0815447987013",
            "text/latex": "14.0815447987013",
            "text/plain": [
              "[1] 14.08154"
            ]
          },
          "metadata": {}
        }
      ]
    },
    {
      "cell_type": "code",
      "source": [
        "illiteracy_female = numeric(nrow(wb_dev_ind))\n",
        "wb_dev_ind$illiteracy_female = illiteracy_female\n",
        "wb_dev_ind$illiteracy_female = 100 - wb_dev_ind$literacy_female\n",
        "mean_illiteracy_female = mean(wb_dev_ind$illiteracy_female, na.rm = TRUE)\n"
      ],
      "metadata": {
        "id": "CZ-8yvFqR22y"
      },
      "execution_count": null,
      "outputs": []
    },
    {
      "cell_type": "code",
      "source": [
        "mean_illiteracy_female"
      ],
      "metadata": {
        "colab": {
          "base_uri": "https://localhost:8080/",
          "height": 34
        },
        "id": "XIvX9ahfSRXm",
        "outputId": "29f641bf-0908-40a3-f17d-339777e370e6"
      },
      "execution_count": null,
      "outputs": [
        {
          "output_type": "display_data",
          "data": {
            "text/html": [
              "21.4554283805195"
            ],
            "text/markdown": "21.4554283805195",
            "text/latex": "21.4554283805195",
            "text/plain": [
              "[1] 21.45543"
            ]
          },
          "metadata": {}
        }
      ]
    },
    {
      "cell_type": "markdown",
      "source": [
        "**Calculating the mean, minimum, and maximum illiteracy rate among the 50 richest countris**\n",
        "\n"
      ],
      "metadata": {
        "id": "6ztRzxPbStwH"
      }
    },
    {
      "cell_type": "code",
      "source": [
        "illiteracy_all = numeric(nrow(wb_dev_ind))\n",
        "wb_dev_ind$illiteracy_all = illiteracy_all\n",
        "wb_dev_ind$illiteracy_all = 100 - wb_dev_ind$literacy_all"
      ],
      "metadata": {
        "id": "AjZglMQ3TtSB"
      },
      "execution_count": null,
      "outputs": []
    },
    {
      "cell_type": "code",
      "source": [
        "richest50 = wb_dev_ind[order(wb_dev_ind$gdp_per_capita, decreasing = TRUE),][1:50,]\n",
        "summary(richest50)"
      ],
      "metadata": {
        "colab": {
          "base_uri": "https://localhost:8080/",
          "height": 433
        },
        "id": "PNOrea20UIBj",
        "outputId": "4b3d4e6a-6ef3-495e-be70-2b11b763fd29"
      },
      "execution_count": null,
      "outputs": [
        {
          "output_type": "display_data",
          "data": {
            "text/plain": [
              " countrycode        countryname        gdp_per_capita   literacy_female\n",
              " Length:50          Length:50          Min.   : 15369   Min.   :91.37  \n",
              " Class :character   Class :character   1st Qu.: 24224   1st Qu.:93.02  \n",
              " Mode  :character   Mode  :character   Median : 37193   Median :94.66  \n",
              "                                       Mean   : 40766   Mean   :94.98  \n",
              "                                       3rd Qu.: 46850   3rd Qu.:96.81  \n",
              "                                       Max.   :158803   Max.   :99.68  \n",
              "                                                        NA's   :32     \n",
              " literacy_male    literacy_all   infant_mortality   illiteracy    \n",
              " Min.   :89.48   Min.   :90.03   Min.   : 1.600   Min.   :0.2994  \n",
              " 1st Qu.:96.18   1st Qu.:94.50   1st Qu.: 2.800   1st Qu.:2.3359  \n",
              " Median :97.02   Median :96.00   Median : 3.250   Median :3.9970  \n",
              " Mean   :96.55   Mean   :95.81   Mean   : 4.185   Mean   :4.1853  \n",
              " 3rd Qu.:98.57   3rd Qu.:97.66   3rd Qu.: 5.200   3rd Qu.:5.5030  \n",
              " Max.   :99.72   Max.   :99.70   Max.   :13.400   Max.   :9.9662  \n",
              " NA's   :32      NA's   :32      NA's   :10       NA's   :32      \n",
              " illiteracy_male   illiteracy_female illiteracy_all  \n",
              " Min.   : 0.2771   Min.   :0.3211    Min.   :0.2994  \n",
              " 1st Qu.: 1.4295   1st Qu.:3.1879    1st Qu.:2.3359  \n",
              " Median : 2.9802   Median :5.3379    Median :3.9970  \n",
              " Mean   : 3.4462   Mean   :5.0218    Mean   :4.1853  \n",
              " 3rd Qu.: 3.8234   3rd Qu.:6.9784    3rd Qu.:5.5030  \n",
              " Max.   :10.5179   Max.   :8.6307    Max.   :9.9662  \n",
              " NA's   :32        NA's   :32        NA's   :32      "
            ]
          },
          "metadata": {}
        }
      ]
    },
    {
      "cell_type": "code",
      "source": [
        "poorest50 = wb_dev_ind[order(wb_dev_ind$gdp_per_capita),][1:50,]\n",
        "summary(poorest50)"
      ],
      "metadata": {
        "colab": {
          "base_uri": "https://localhost:8080/",
          "height": 433
        },
        "id": "FDKQ_tqxUiw1",
        "outputId": "cd012d2c-6b66-49a0-fbf6-9c64f7e7c6cd"
      },
      "execution_count": null,
      "outputs": [
        {
          "output_type": "display_data",
          "data": {
            "text/plain": [
              " countrycode        countryname        gdp_per_capita   literacy_female\n",
              " Length:50          Length:50          Min.   : 155.2   Min.   : 8.94  \n",
              " Class :character   Class :character   1st Qu.: 411.6   1st Qu.:34.92  \n",
              " Mode  :character   Mode  :character   Median : 546.5   Median :50.71  \n",
              "                                       Mean   : 605.3   Mean   :51.48  \n",
              "                                       3rd Qu.: 780.4   3rd Qu.:64.64  \n",
              "                                       Max.   :1112.8   Max.   :99.67  \n",
              "                                                        NA's   :2      \n",
              " literacy_male    literacy_all   infant_mortality   illiteracy     \n",
              " Min.   :23.25   Min.   :15.46   Min.   : 19.00   Min.   : 0.2626  \n",
              " 1st Qu.:56.94   1st Qu.:45.24   1st Qu.: 40.52   1st Qu.:28.3379  \n",
              " Median :68.62   Median :60.81   Median : 53.70   Median :39.1923  \n",
              " Mean   :67.90   Mean   :59.41   Mean   : 54.10   Mean   :40.5933  \n",
              " 3rd Qu.:80.16   3rd Qu.:71.66   3rd Qu.: 64.70   3rd Qu.:54.7560  \n",
              " Max.   :99.81   Max.   :99.74   Max.   :107.20   Max.   :84.5433  \n",
              " NA's   :2       NA's   :2                        NA's   :2        \n",
              " illiteracy_male   illiteracy_female illiteracy_all   \n",
              " Min.   : 0.1894   Min.   : 0.3349   Min.   : 0.2626  \n",
              " 1st Qu.:19.8381   1st Qu.:35.3565   1st Qu.:28.3379  \n",
              " Median :31.3775   Median :49.2949   Median :39.1923  \n",
              " Mean   :32.0965   Mean   :48.5175   Mean   :40.5933  \n",
              " 3rd Qu.:43.0636   3rd Qu.:65.0755   3rd Qu.:54.7560  \n",
              " Max.   :76.7525   Max.   :91.0603   Max.   :84.5433  \n",
              " NA's   :2         NA's   :2         NA's   :2        "
            ]
          },
          "metadata": {}
        }
      ]
    },
    {
      "cell_type": "code",
      "source": [
        "# read the data\n",
        "wb_dev_ind = read.csv(\"wb_dev_ind.csv\")\n",
        "# summarize data\n",
        "summary(wb_dev_ind)"
      ],
      "metadata": {
        "colab": {
          "base_uri": "https://localhost:8080/",
          "height": 295
        },
        "id": "Jw5ennTuVB7M",
        "outputId": "18ba440e-5168-417e-84e2-d947404e0fdc"
      },
      "execution_count": null,
      "outputs": [
        {
          "output_type": "display_data",
          "data": {
            "text/plain": [
              " countrycode        countryname        gdp_per_capita     literacy_female \n",
              " Length:214         Length:214         Min.   :   155.2   Min.   :  8.94  \n",
              " Class :character   Class :character   1st Qu.:  1124.4   1st Qu.: 63.40  \n",
              " Mode  :character   Mode  :character   Median :  4109.6   Median : 91.37  \n",
              "                                       Mean   : 12967.2   Mean   : 78.54  \n",
              "                                       3rd Qu.: 15122.3   3rd Qu.: 97.33  \n",
              "                                       Max.   :158802.5   Max.   :100.00  \n",
              "                                       NA's   :15         NA's   :60      \n",
              " literacy_male     literacy_all    infant_mortality \n",
              " Min.   : 23.25   Min.   : 15.46   Min.   :  1.600  \n",
              " 1st Qu.: 78.33   1st Qu.: 71.34   1st Qu.:  7.075  \n",
              " Median : 93.43   Median : 92.16   Median : 15.250  \n",
              " Mean   : 85.92   Mean   : 82.15   Mean   : 25.611  \n",
              " 3rd Qu.: 98.43   3rd Qu.: 97.91   3rd Qu.: 39.650  \n",
              " Max.   :100.00   Max.   :100.00   Max.   :107.200  \n",
              " NA's   :60       NA's   :60       NA's   :22       "
            ]
          },
          "metadata": {}
        }
      ]
    },
    {
      "cell_type": "code",
      "source": [
        "model1 = lm(infant_mortality~gdp_per_capita, data=wb_dev_ind)"
      ],
      "metadata": {
        "id": "iLGKuxlUqD4m"
      },
      "execution_count": null,
      "outputs": []
    },
    {
      "cell_type": "code",
      "source": [
        "model1 = lm(infant_mortality~gdp_per_capita, data=wb_dev_ind)"
      ],
      "metadata": {
        "id": "dj32OMKflii-"
      },
      "execution_count": null,
      "outputs": []
    },
    {
      "cell_type": "code",
      "source": [
        "summary(model1)"
      ],
      "metadata": {
        "colab": {
          "base_uri": "https://localhost:8080/",
          "height": 347
        },
        "id": "aTcAdfTKlz3K",
        "outputId": "f62d7cca-8857-4477-8226-a89b3197e641"
      },
      "execution_count": null,
      "outputs": [
        {
          "output_type": "display_data",
          "data": {
            "text/plain": [
              "\n",
              "Call:\n",
              "lm(formula = infant_mortality ~ gdp_per_capita, data = wb_dev_ind)\n",
              "\n",
              "Residuals:\n",
              "    Min      1Q  Median      3Q     Max \n",
              "-24.883 -15.757  -6.932   9.823  76.032 \n",
              "\n",
              "Coefficients:\n",
              "                 Estimate Std. Error t value Pr(>|t|)    \n",
              "(Intercept)    31.4035085  1.7852358  17.591   <2e-16 ***\n",
              "gdp_per_capita -0.0005740  0.0000826  -6.949    6e-11 ***\n",
              "---\n",
              "Signif. codes:  0 ‘***’ 0.001 ‘**’ 0.01 ‘*’ 0.05 ‘.’ 0.1 ‘ ’ 1\n",
              "\n",
              "Residual standard error: 20.98 on 186 degrees of freedom\n",
              "  (26 observations deleted due to missingness)\n",
              "Multiple R-squared:  0.2061,\tAdjusted R-squared:  0.2018 \n",
              "F-statistic: 48.29 on 1 and 186 DF,  p-value: 6.004e-11\n"
            ]
          },
          "metadata": {}
        }
      ]
    },
    {
      "cell_type": "code",
      "source": [
        "model1"
      ],
      "metadata": {
        "colab": {
          "base_uri": "https://localhost:8080/",
          "height": 138
        },
        "id": "C7Kl-Lb1nV0F",
        "outputId": "078d57f9-8f7f-4a5e-8972-69c7e47d44e4"
      },
      "execution_count": null,
      "outputs": [
        {
          "output_type": "display_data",
          "data": {
            "text/plain": [
              "\n",
              "Call:\n",
              "lm(formula = infant_mortality ~ gdp_per_capita, data = wb_dev_ind)\n",
              "\n",
              "Coefficients:\n",
              "   (Intercept)  gdp_per_capita  \n",
              "     31.403508       -0.000574  \n"
            ]
          },
          "metadata": {}
        }
      ]
    },
    {
      "cell_type": "code",
      "source": [
        ""
      ],
      "metadata": {
        "id": "HhsHV9K_nXPp"
      },
      "execution_count": null,
      "outputs": []
    }
  ]
}